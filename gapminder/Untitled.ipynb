{
 "cells": [
  {
   "cell_type": "code",
   "execution_count": 70,
   "metadata": {
    "collapsed": true
   },
   "outputs": [],
   "source": [
    "import pandas as pd\n",
    "import numpy as np"
   ]
  },
  {
   "cell_type": "code",
   "execution_count": 160,
   "metadata": {
    "collapsed": false
   },
   "outputs": [],
   "source": [
    "df = pd.read_csv('http://www.stat.ubc.ca/~jenny/notOcto/STAT545A/examples/gapminder/data/gapminderDataFiveYear.txt', sep='\\t')"
   ]
  },
  {
   "cell_type": "code",
   "execution_count": null,
   "metadata": {
    "collapsed": true
   },
   "outputs": [],
   "source": []
  },
  {
   "cell_type": "code",
   "execution_count": 3,
   "metadata": {
    "collapsed": false
   },
   "outputs": [
    {
     "data": {
      "text/html": [
       "<div style=\"max-height:1000px;max-width:1500px;overflow:auto;\">\n",
       "<table border=\"1\" class=\"dataframe\">\n",
       "  <thead>\n",
       "    <tr style=\"text-align: right;\">\n",
       "      <th></th>\n",
       "      <th>country</th>\n",
       "      <th>year</th>\n",
       "      <th>pop</th>\n",
       "      <th>continent</th>\n",
       "      <th>lifeExp</th>\n",
       "      <th>gdpPercap</th>\n",
       "    </tr>\n",
       "  </thead>\n",
       "  <tbody>\n",
       "    <tr>\n",
       "      <th>0</th>\n",
       "      <td>Afghanistan</td>\n",
       "      <td>1952</td>\n",
       "      <td>8425333</td>\n",
       "      <td>Asia</td>\n",
       "      <td>28.801</td>\n",
       "      <td>779.445314</td>\n",
       "    </tr>\n",
       "    <tr>\n",
       "      <th>1</th>\n",
       "      <td>Afghanistan</td>\n",
       "      <td>1957</td>\n",
       "      <td>9240934</td>\n",
       "      <td>Asia</td>\n",
       "      <td>30.332</td>\n",
       "      <td>820.853030</td>\n",
       "    </tr>\n",
       "    <tr>\n",
       "      <th>2</th>\n",
       "      <td>Afghanistan</td>\n",
       "      <td>1962</td>\n",
       "      <td>10267083</td>\n",
       "      <td>Asia</td>\n",
       "      <td>31.997</td>\n",
       "      <td>853.100710</td>\n",
       "    </tr>\n",
       "    <tr>\n",
       "      <th>3</th>\n",
       "      <td>Afghanistan</td>\n",
       "      <td>1967</td>\n",
       "      <td>11537966</td>\n",
       "      <td>Asia</td>\n",
       "      <td>34.020</td>\n",
       "      <td>836.197138</td>\n",
       "    </tr>\n",
       "    <tr>\n",
       "      <th>4</th>\n",
       "      <td>Afghanistan</td>\n",
       "      <td>1972</td>\n",
       "      <td>13079460</td>\n",
       "      <td>Asia</td>\n",
       "      <td>36.088</td>\n",
       "      <td>739.981106</td>\n",
       "    </tr>\n",
       "  </tbody>\n",
       "</table>\n",
       "</div>"
      ],
      "text/plain": [
       "       country  year       pop continent  lifeExp   gdpPercap\n",
       "0  Afghanistan  1952   8425333      Asia   28.801  779.445314\n",
       "1  Afghanistan  1957   9240934      Asia   30.332  820.853030\n",
       "2  Afghanistan  1962  10267083      Asia   31.997  853.100710\n",
       "3  Afghanistan  1967  11537966      Asia   34.020  836.197138\n",
       "4  Afghanistan  1972  13079460      Asia   36.088  739.981106"
      ]
     },
     "execution_count": 3,
     "metadata": {},
     "output_type": "execute_result"
    }
   ],
   "source": [
    "df.head()"
   ]
  },
  {
   "cell_type": "code",
   "execution_count": 4,
   "metadata": {
    "collapsed": false
   },
   "outputs": [
    {
     "data": {
      "text/plain": [
       "array(['Asia', 'Europe', 'Africa', 'Americas', 'Oceania'], dtype=object)"
      ]
     },
     "execution_count": 4,
     "metadata": {},
     "output_type": "execute_result"
    }
   ],
   "source": [
    "df['continent'].unique()"
   ]
  },
  {
   "cell_type": "code",
   "execution_count": 5,
   "metadata": {
    "collapsed": false
   },
   "outputs": [
    {
     "data": {
      "text/html": [
       "<div style=\"max-height:1000px;max-width:1500px;overflow:auto;\">\n",
       "<table border=\"1\" class=\"dataframe\">\n",
       "  <thead>\n",
       "    <tr style=\"text-align: right;\">\n",
       "      <th></th>\n",
       "      <th></th>\n",
       "      <th>gdpPercap</th>\n",
       "      <th>lifeExp</th>\n",
       "      <th>pop</th>\n",
       "      <th>year</th>\n",
       "    </tr>\n",
       "    <tr>\n",
       "      <th>continent</th>\n",
       "      <th></th>\n",
       "      <th></th>\n",
       "      <th></th>\n",
       "      <th></th>\n",
       "      <th></th>\n",
       "    </tr>\n",
       "  </thead>\n",
       "  <tbody>\n",
       "    <tr>\n",
       "      <th rowspan=\"5\" valign=\"top\">Africa</th>\n",
       "      <th>count</th>\n",
       "      <td>624.000000</td>\n",
       "      <td>624.00000</td>\n",
       "      <td>624.000000</td>\n",
       "      <td>624.00000</td>\n",
       "    </tr>\n",
       "    <tr>\n",
       "      <th>mean</th>\n",
       "      <td>2193.754578</td>\n",
       "      <td>48.86533</td>\n",
       "      <td>9916003.142628</td>\n",
       "      <td>1979.50000</td>\n",
       "    </tr>\n",
       "    <tr>\n",
       "      <th>std</th>\n",
       "      <td>2827.929863</td>\n",
       "      <td>9.15021</td>\n",
       "      <td>15490923.324506</td>\n",
       "      <td>17.27411</td>\n",
       "    </tr>\n",
       "    <tr>\n",
       "      <th>min</th>\n",
       "      <td>241.165877</td>\n",
       "      <td>23.59900</td>\n",
       "      <td>60011.000000</td>\n",
       "      <td>1952.00000</td>\n",
       "    </tr>\n",
       "    <tr>\n",
       "      <th>25%</th>\n",
       "      <td>761.247010</td>\n",
       "      <td>42.37250</td>\n",
       "      <td>1342075.000000</td>\n",
       "      <td>1965.75000</td>\n",
       "    </tr>\n",
       "  </tbody>\n",
       "</table>\n",
       "</div>"
      ],
      "text/plain": [
       "                   gdpPercap    lifeExp              pop        year\n",
       "continent                                                           \n",
       "Africa    count   624.000000  624.00000       624.000000   624.00000\n",
       "          mean   2193.754578   48.86533   9916003.142628  1979.50000\n",
       "          std    2827.929863    9.15021  15490923.324506    17.27411\n",
       "          min     241.165877   23.59900     60011.000000  1952.00000\n",
       "          25%     761.247010   42.37250   1342075.000000  1965.75000"
      ]
     },
     "execution_count": 5,
     "metadata": {},
     "output_type": "execute_result"
    }
   ],
   "source": [
    "df.groupby(['continent']).describe().head()"
   ]
  },
  {
   "cell_type": "code",
   "execution_count": 6,
   "metadata": {
    "collapsed": false
   },
   "outputs": [
    {
     "name": "stderr",
     "output_type": "stream",
     "text": [
      ":0: FutureWarning: IPython widgets are experimental and may change in the future.\n"
     ]
    }
   ],
   "source": [
    "from IPython.html import widgets"
   ]
  },
  {
   "cell_type": "code",
   "execution_count": 7,
   "metadata": {
    "collapsed": true
   },
   "outputs": [],
   "source": [
    "import plotly.plotly as py"
   ]
  },
  {
   "cell_type": "code",
   "execution_count": 9,
   "metadata": {
    "collapsed": false
   },
   "outputs": [],
   "source": [
    "from plotly.widgets import GraphWidget"
   ]
  },
  {
   "cell_type": "code",
   "execution_count": 10,
   "metadata": {
    "collapsed": true
   },
   "outputs": [],
   "source": [
    "from IPython.display import display"
   ]
  },
  {
   "cell_type": "code",
   "execution_count": 148,
   "metadata": {
    "collapsed": false
   },
   "outputs": [
    {
     "name": "stdout",
     "output_type": "stream",
     "text": [
      "2007\n",
      "1952\n"
     ]
    }
   ],
   "source": [
    "print df['year'].max()\n",
    "print df['year'].min()\n"
   ]
  },
  {
   "cell_type": "code",
   "execution_count": 150,
   "metadata": {
    "collapsed": false
   },
   "outputs": [],
   "source": [
    "input_box = widgets.Text()\n",
    "input_box"
   ]
  },
  {
   "cell_type": "code",
   "execution_count": 151,
   "metadata": {
    "collapsed": false
   },
   "outputs": [
    {
     "data": {
      "text/plain": [
       "u'https://plot.ly/~playground/7'"
      ]
     },
     "metadata": {},
     "output_type": "display_data"
    },
    {
     "data": {
      "text/plain": [
       "[{u'curveNumber': 0, u'pointNumber': 4, u'x': 400.448610699994, u'y': 44}]"
      ]
     },
     "metadata": {},
     "output_type": "display_data"
    },
    {
     "data": {
      "text/plain": [
       "u'https://plot.ly/~playground/7'"
      ]
     },
     "metadata": {},
     "output_type": "display_data"
    },
    {
     "data": {
      "text/plain": [
       "[{u'curveNumber': 2, u'pointNumber': 36, u'x': 1077.281856, u'y': 36.324}]"
      ]
     },
     "metadata": {},
     "output_type": "display_data"
    },
    {
     "data": {
      "text/plain": [
       "u'https://plot.ly/~playground/7'"
      ]
     },
     "metadata": {},
     "output_type": "display_data"
    },
    {
     "data": {
      "text/plain": [
       "[{u'curveNumber': 1,\n",
       "  u'pointNumber': 28,\n",
       "  u'x': 1969.1009800000002,\n",
       "  u'y': 43.585}]"
      ]
     },
     "metadata": {},
     "output_type": "display_data"
    },
    {
     "data": {
      "text/plain": [
       "u'https://plot.ly/~playground/7'"
      ]
     },
     "metadata": {},
     "output_type": "display_data"
    },
    {
     "data": {
      "text/plain": [
       "[{u'curveNumber': 2, u'pointNumber': 7, u'x': 1071.310713, u'y': 35.463}]"
      ]
     },
     "metadata": {},
     "output_type": "display_data"
    },
    {
     "data": {
      "text/plain": [
       "u'https://plot.ly/~playground/7'"
      ]
     },
     "metadata": {},
     "output_type": "display_data"
    },
    {
     "data": {
      "text/plain": [
       "[{u'curveNumber': 0, u'pointNumber': 18, u'x': 331, u'y': 36.319}]"
      ]
     },
     "metadata": {},
     "output_type": "display_data"
    },
    {
     "data": {
      "text/plain": [
       "u'https://plot.ly/~playground/7'"
      ]
     },
     "metadata": {},
     "output_type": "display_data"
    },
    {
     "data": {
      "text/plain": [
       "[{u'curveNumber': 0, u'pointNumber': 20, u'x': 1828.230307, u'y': 37.578}]"
      ]
     },
     "metadata": {},
     "output_type": "display_data"
    },
    {
     "data": {
      "text/plain": [
       "u'https://plot.ly/~playground/7'"
      ]
     },
     "metadata": {},
     "output_type": "display_data"
    },
    {
     "data": {
      "text/plain": [
       "[{u'curveNumber': 3, u'pointNumber': 13, u'x': 2194.926204, u'y': 41.912}]"
      ]
     },
     "metadata": {},
     "output_type": "display_data"
    },
    {
     "data": {
      "text/plain": [
       "u'https://plot.ly/~playground/7'"
      ]
     },
     "metadata": {},
     "output_type": "display_data"
    },
    {
     "data": {
      "text/plain": [
       "[{u'curveNumber': 0, u'pointNumber': 25, u'x': 1083.53203, u'y': 57.593}]"
      ]
     },
     "metadata": {},
     "output_type": "display_data"
    },
    {
     "data": {
      "text/plain": [
       "u'https://plot.ly/~playground/7'"
      ]
     },
     "metadata": {},
     "output_type": "display_data"
    },
    {
     "data": {
      "text/plain": [
       "[{u'curveNumber': 0, u'pointNumber': 27, u'x': 1206.947913, u'y': 58.5}]"
      ]
     },
     "metadata": {},
     "output_type": "display_data"
    },
    {
     "data": {
      "text/plain": [
       "u'https://plot.ly/~playground/7'"
      ]
     },
     "metadata": {},
     "output_type": "display_data"
    },
    {
     "data": {
      "text/plain": [
       "[{u'curveNumber': 0,\n",
       "  u'pointNumber': 21,\n",
       "  u'x': 684.5971437999999,\n",
       "  u'y': 43.43600000000001}]"
      ]
     },
     "metadata": {},
     "output_type": "display_data"
    },
    {
     "data": {
      "text/plain": [
       "u'https://plot.ly/~playground/7'"
      ]
     },
     "metadata": {},
     "output_type": "display_data"
    },
    {
     "data": {
      "text/plain": [
       "[{u'curveNumber': 2, u'pointNumber': 2, u'x': 1062.7522, u'y': 38.223}]"
      ]
     },
     "metadata": {},
     "output_type": "display_data"
    },
    {
     "data": {
      "text/plain": [
       "u'https://plot.ly/~playground/7'"
      ]
     },
     "metadata": {},
     "output_type": "display_data"
    },
    {
     "data": {
      "text/plain": [
       "[{u'curveNumber': 0, u'pointNumber': 9, u'x': 4129.766056, u'y': 45.32}]"
      ]
     },
     "metadata": {},
     "output_type": "display_data"
    },
    {
     "data": {
      "text/plain": [
       "u'https://plot.ly/~playground/7'"
      ]
     },
     "metadata": {},
     "output_type": "display_data"
    },
    {
     "data": {
      "text/plain": [
       "[{u'curveNumber': 3,\n",
       "  u'pointNumber': 15,\n",
       "  u'x': 3478.125529,\n",
       "  u'y': 50.788999999999994}]"
      ]
     },
     "metadata": {},
     "output_type": "display_data"
    },
    {
     "data": {
      "text/plain": [
       "u'https://plot.ly/~playground/7'"
      ]
     },
     "metadata": {},
     "output_type": "display_data"
    },
    {
     "data": {
      "text/plain": [
       "[{u'curveNumber': 3,\n",
       "  u'pointNumber': 22,\n",
       "  u'x': 13990.482080000002,\n",
       "  u'y': 68.44}]"
      ]
     },
     "metadata": {},
     "output_type": "display_data"
    },
    {
     "data": {
      "text/plain": [
       "u'https://plot.ly/~playground/7'"
      ]
     },
     "metadata": {},
     "output_type": "display_data"
    },
    {
     "data": {
      "text/plain": [
       "[{u'curveNumber': 1, u'pointNumber': 29, u'x': 9979.508487000001, u'y': 69.18}]"
      ]
     },
     "metadata": {},
     "output_type": "display_data"
    },
    {
     "data": {
      "text/plain": [
       "u'https://plot.ly/~playground/7'"
      ]
     },
     "metadata": {},
     "output_type": "display_data"
    },
    {
     "data": {
      "text/plain": [
       "[{u'curveNumber': 1,\n",
       "  u'pointNumber': 25,\n",
       "  u'x': 3834.0347420000003,\n",
       "  u'y': 64.94}]"
      ]
     },
     "metadata": {},
     "output_type": "display_data"
    },
    {
     "data": {
      "text/plain": [
       "u'https://plot.ly/~playground/7'"
      ]
     },
     "metadata": {},
     "output_type": "display_data"
    },
    {
     "data": {
      "text/plain": [
       "[{u'curveNumber': 3,\n",
       "  u'pointNumber': 4,\n",
       "  u'x': 3939.9787890000002,\n",
       "  u'y': 54.745}]"
      ]
     },
     "metadata": {},
     "output_type": "display_data"
    },
    {
     "data": {
      "text/plain": [
       "u'https://plot.ly/~playground/7'"
      ]
     },
     "metadata": {},
     "output_type": "display_data"
    },
    {
     "data": {
      "text/plain": [
       "[{u'curveNumber': 0, u'pointNumber': 11, u'x': 3216.956347, u'y': 63.03}]"
      ]
     },
     "metadata": {},
     "output_type": "display_data"
    },
    {
     "data": {
      "text/plain": [
       "u'https://plot.ly/~playground/7'"
      ]
     },
     "metadata": {},
     "output_type": "display_data"
    },
    {
     "data": {
      "text/plain": [
       "[{u'curveNumber': 1, u'pointNumber': 20, u'x': 3068.319867, u'y': 59.82}]"
      ]
     },
     "metadata": {},
     "output_type": "display_data"
    },
    {
     "data": {
      "text/plain": [
       "u'https://plot.ly/~playground/7'"
      ]
     },
     "metadata": {},
     "output_type": "display_data"
    },
    {
     "data": {
      "text/plain": [
       "[{u'curveNumber': 3,\n",
       "  u'pointNumber': 14,\n",
       "  u'x': 2898.5308809999997,\n",
       "  u'y': 58.53}]"
      ]
     },
     "metadata": {},
     "output_type": "display_data"
    },
    {
     "data": {
      "text/plain": [
       "u'https://plot.ly/~playground/7'"
      ]
     },
     "metadata": {},
     "output_type": "display_data"
    },
    {
     "data": {
      "text/plain": [
       "[{u'curveNumber': 1, u'pointNumber': 4, u'x': 2444.2866480000002, u'y': 59.6}]"
      ]
     },
     "metadata": {},
     "output_type": "display_data"
    },
    {
     "data": {
      "text/plain": [
       "u'https://plot.ly/~playground/7'"
      ]
     },
     "metadata": {},
     "output_type": "display_data"
    },
    {
     "data": {
      "text/plain": [
       "[{u'curveNumber': 1, u'pointNumber': 0, u'x': 1601.056136, u'y': 55.23}]"
      ]
     },
     "metadata": {},
     "output_type": "display_data"
    }
   ],
   "source": [
    "slider = widgets.IntSlider()\n",
    "slider.max = df['year'].max()\n",
    "slider.min = df['year'].min()\n",
    "slider.step = 5\n",
    "\n",
    "graph = GraphWidget()\n",
    "line = GraphWidget()\n",
    "\n",
    "display(slider)\n",
    "display(graph)\n",
    "display(line)"
   ]
  },
  {
   "cell_type": "code",
   "execution_count": 159,
   "metadata": {
    "collapsed": false
   },
   "outputs": [
    {
     "data": {
      "text/html": [
       "<div style=\"max-height:1000px;max-width:1500px;overflow:auto;\">\n",
       "<table border=\"1\" class=\"dataframe\">\n",
       "  <thead>\n",
       "    <tr style=\"text-align: right;\">\n",
       "      <th></th>\n",
       "      <th>country</th>\n",
       "      <th>year</th>\n",
       "      <th>pop</th>\n",
       "      <th>continent</th>\n",
       "      <th>lifeExp</th>\n",
       "      <th>gdpPercap</th>\n",
       "    </tr>\n",
       "  </thead>\n",
       "  <tbody>\n",
       "    <tr>\n",
       "      <th>0</th>\n",
       "      <td>Afghanistan</td>\n",
       "      <td>1952-01-01</td>\n",
       "      <td>8425333</td>\n",
       "      <td>Asia</td>\n",
       "      <td>28.801</td>\n",
       "      <td>779.445314</td>\n",
       "    </tr>\n",
       "    <tr>\n",
       "      <th>1</th>\n",
       "      <td>Afghanistan</td>\n",
       "      <td>1957-01-01</td>\n",
       "      <td>9240934</td>\n",
       "      <td>Asia</td>\n",
       "      <td>30.332</td>\n",
       "      <td>820.853030</td>\n",
       "    </tr>\n",
       "    <tr>\n",
       "      <th>2</th>\n",
       "      <td>Afghanistan</td>\n",
       "      <td>1962-01-01</td>\n",
       "      <td>10267083</td>\n",
       "      <td>Asia</td>\n",
       "      <td>31.997</td>\n",
       "      <td>853.100710</td>\n",
       "    </tr>\n",
       "    <tr>\n",
       "      <th>3</th>\n",
       "      <td>Afghanistan</td>\n",
       "      <td>1967-01-01</td>\n",
       "      <td>11537966</td>\n",
       "      <td>Asia</td>\n",
       "      <td>34.020</td>\n",
       "      <td>836.197138</td>\n",
       "    </tr>\n",
       "    <tr>\n",
       "      <th>4</th>\n",
       "      <td>Afghanistan</td>\n",
       "      <td>1972-01-01</td>\n",
       "      <td>13079460</td>\n",
       "      <td>Asia</td>\n",
       "      <td>36.088</td>\n",
       "      <td>739.981106</td>\n",
       "    </tr>\n",
       "  </tbody>\n",
       "</table>\n",
       "</div>"
      ],
      "text/plain": [
       "       country       year       pop continent  lifeExp   gdpPercap\n",
       "0  Afghanistan 1952-01-01   8425333      Asia   28.801  779.445314\n",
       "1  Afghanistan 1957-01-01   9240934      Asia   30.332  820.853030\n",
       "2  Afghanistan 1962-01-01  10267083      Asia   31.997  853.100710\n",
       "3  Afghanistan 1967-01-01  11537966      Asia   34.020  836.197138\n",
       "4  Afghanistan 1972-01-01  13079460      Asia   36.088  739.981106"
      ]
     },
     "execution_count": 159,
     "metadata": {},
     "output_type": "execute_result"
    }
   ],
   "source": [
    "df.head()"
   ]
  },
  {
   "cell_type": "code",
   "execution_count": 158,
   "metadata": {
    "collapsed": false
   },
   "outputs": [],
   "source": [
    "df['year'] = pd.to_datetime(df['year'], format='%Y')"
   ]
  },
  {
   "cell_type": "code",
   "execution_count": 166,
   "metadata": {
    "collapsed": false
   },
   "outputs": [
    {
     "name": "stdout",
     "output_type": "stream",
     "text": [
      "Help on method on_click in module plotly.widgets.graph_widget:\n",
      "\n",
      "on_click(self, callback, remove=False) method of plotly.widgets.graph_widget.GraphWidget instance\n",
      "    Assign a callback to click events propagated\n",
      "    by clicking on point(s) in the Plotly graph.\n",
      "    \n",
      "    Args:\n",
      "        callback (function): Callback function this is called\n",
      "            on click events with the signature:\n",
      "            callback(widget, hover_obj) -> None\n",
      "    \n",
      "            Args:\n",
      "                widget (GraphWidget): The current instance\n",
      "                of the graph widget that this callback is assigned to.\n",
      "    \n",
      "                click_obj (dict): a nested dict that describes\n",
      "                which point(s) were clicked on.\n",
      "    \n",
      "                click_obj example:\n",
      "                [\n",
      "                    {\n",
      "                        'curveNumber': 1,\n",
      "                        'pointNumber': 2,\n",
      "                        'x': 4,\n",
      "                        'y': 14\n",
      "                    }\n",
      "                ]\n",
      "    \n",
      "        remove (bool, optional): If False, attach the callback.\n",
      "            If True, remove the callback. Defaults to False.\n",
      "    \n",
      "    \n",
      "    Returns:\n",
      "        None\n",
      "    \n",
      "    Example:\n",
      "    ```\n",
      "    from IPython.display import display\n",
      "    def message_handler(widget, msg):\n",
      "        display(widget._graph_url)\n",
      "        display(msg)\n",
      "    \n",
      "    g = GraphWidget('https://plot.ly/~chris/3375')\n",
      "    display(g)\n",
      "    \n",
      "    g.on_click(message_handler)\n",
      "    ```\n",
      "\n"
     ]
    }
   ],
   "source": [
    "help(graph.on_click)"
   ]
  },
  {
   "cell_type": "code",
   "execution_count": 167,
   "metadata": {
    "collapsed": true
   },
   "outputs": [],
   "source": [
    "from IPython.display import display\n",
    "def message_handler(widget, msg):\n",
    "    display(widget._graph_url)\n",
    "    display(msg)\n",
    "\n",
    "graph.on_click(message_handler)"
   ]
  },
  {
   "cell_type": "code",
   "execution_count": 185,
   "metadata": {
    "collapsed": true
   },
   "outputs": [],
   "source": [
    "graph.on_click(draw_line)"
   ]
  },
  {
   "cell_type": "code",
   "execution_count": 184,
   "metadata": {
    "collapsed": false
   },
   "outputs": [],
   "source": [
    "def draw_line(widget, msg):\n",
    "    curveNumber = msg[0]['curveNumber']\n",
    "    pointNumber = msg[0]['pointNumber']\n",
    "    text = gen_plot()['data'][curveNumber]['text']\n",
    "    country = text.get_value(text.index[pointNumber])\n",
    "    # country = 'Iran'\n",
    "    dfi = df[df['country'] == country]\n",
    "    fig = {\n",
    "        'data': [\n",
    "            {\n",
    "                'x': pd.to_datetime(dfi['year'], format='%Y'),\n",
    "                'y': dfi['pop']\n",
    "            }\n",
    "        ],\n",
    "        'layout': {\n",
    "            'yaxis': {\n",
    "                'title': 'Population'\n",
    "            },\n",
    "            'title': country\n",
    "        }\n",
    "    }\n",
    "    line.plot(fig)\n",
    "    \n",
    "draw_line({},[{'curveNumber': 0, 'pointNumber': 0}])"
   ]
  },
  {
   "cell_type": "code",
   "execution_count": 152,
   "metadata": {
    "collapsed": false
   },
   "outputs": [],
   "source": [
    "def gen_plot():\n",
    "    dfi = df[(df['year'] == slider.value) & (df['country'] != 'Kuwait')]\n",
    "    traces = []\n",
    "    for c in dfi['continent'].unique():\n",
    "        dfc = dfi[dfi['continent'] == c]\n",
    "        traces.append({\n",
    "            'x': dfc['gdpPercap'],\n",
    "            'y': dfc['lifeExp'],\n",
    "            'text': dfc['country'],\n",
    "            'mode': 'markers',\n",
    "            'marker': {\n",
    "                'size': dfc['pop'],\n",
    "                'sizeref': max(df['pop'])/7500,\n",
    "                'sizemode': 'area'\n",
    "            },\n",
    "            'name': c\n",
    "        })\n",
    "    fig = {\n",
    "        'data': traces,\n",
    "        'layout': {\n",
    "            'xaxis': {\n",
    "                'type': 'log',\n",
    "                'autorange': False,\n",
    "                'range': np.log10([(min(df['gdpPercap'])*0.5), max(df['gdpPercap'])*1.1])\n",
    "            },\n",
    "            'yaxis': {\n",
    "                'autorange': False,\n",
    "                'range': [min(df['lifeExp'])*0.8, max(df['lifeExp'])*1.2]\n",
    "            },\n",
    "            'hovermode': 'closest'\n",
    "    }}\n",
    "    return fig\n",
    "\n",
    "def on_slide():\n",
    "    graph.plot(gen_plot())\n",
    "    # graph.relayout({'xaxis.range': [min(df['gdpPercap']), max(df['gdpPercap'])]})\n",
    "    # graph.relayout({'xaxis': {'type': 'log'}})\n",
    "\n",
    "graph.plot(gen_plot())"
   ]
  },
  {
   "cell_type": "code",
   "execution_count": 108,
   "metadata": {
    "collapsed": false
   },
   "outputs": [],
   "source": [
    "slider.on_trait_change(on_slide, 'value', remove=True)\n",
    "slider.on_trait_change(on_slide, 'value')"
   ]
  },
  {
   "cell_type": "code",
   "execution_count": null,
   "metadata": {
    "collapsed": true
   },
   "outputs": [],
   "source": [
    "dfc[]"
   ]
  },
  {
   "cell_type": "code",
   "execution_count": 115,
   "metadata": {
    "collapsed": false
   },
   "outputs": [
    {
     "name": "stdout",
     "output_type": "stream",
     "text": [
      "log(x[, out])\n",
      "\n",
      "Natural logarithm, element-wise.\n",
      "\n",
      "The natural logarithm `log` is the inverse of the exponential function,\n",
      "so that `log(exp(x)) = x`. The natural logarithm is logarithm in base\n",
      "`e`.\n",
      "\n",
      "Parameters\n",
      "----------\n",
      "x : array_like\n",
      "    Input value.\n",
      "\n",
      "Returns\n",
      "-------\n",
      "y : ndarray\n",
      "    The natural logarithm of `x`, element-wise.\n",
      "\n",
      "See Also\n",
      "--------\n",
      "log10, log2, log1p, emath.log\n",
      "\n",
      "Notes\n",
      "-----\n",
      "Logarithm is a multivalued function: for each `x` there is an infinite\n",
      "number of `z` such that `exp(z) = x`. The convention is to return the\n",
      "`z` whose imaginary part lies in `[-pi, pi]`.\n",
      "\n",
      "For real-valued input data types, `log` always returns real output. For\n",
      "each value that cannot be expressed as a real number or infinity, it\n",
      "yields ``nan`` and sets the `invalid` floating point error flag.\n",
      "\n",
      "For complex-valued input, `log` is a complex analytical function that\n",
      "has a branch cut `[-inf, 0]` and is continuous from above on it. `log`\n",
      "handles the floating-point negative zero as an infinitesimal negative\n",
      "number, conforming to the C99 standard.\n",
      "\n",
      "References\n",
      "----------\n",
      ".. [1] M. Abramowitz and I.A. Stegun, \"Handbook of Mathematical Functions\",\n",
      "       10th printing, 1964, pp. 67. http://www.math.sfu.ca/~cbm/aands/\n",
      ".. [2] Wikipedia, \"Logarithm\". http://en.wikipedia.org/wiki/Logarithm\n",
      "\n",
      "Examples\n",
      "--------\n",
      ">>> np.log([1, np.e, np.e**2, 0])\n",
      "array([  0.,   1.,   2., -Inf])\n"
     ]
    }
   ],
   "source": [
    "np.info(np.log)"
   ]
  },
  {
   "cell_type": "code",
   "execution_count": null,
   "metadata": {
    "collapsed": true
   },
   "outputs": [],
   "source": []
  }
 ],
 "metadata": {
  "kernelspec": {
   "display_name": "Python 2",
   "language": "python",
   "name": "python2"
  },
  "language_info": {
   "codemirror_mode": {
    "name": "ipython",
    "version": 2
   },
   "file_extension": ".py",
   "mimetype": "text/x-python",
   "name": "python",
   "nbconvert_exporter": "python",
   "pygments_lexer": "ipython2",
   "version": "2.7.9"
  }
 },
 "nbformat": 4,
 "nbformat_minor": 0
}
